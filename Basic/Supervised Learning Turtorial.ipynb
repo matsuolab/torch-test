{
 "metadata": {
  "language": "lua",
  "name": "",
  "signature": "sha256:95925a11d82be726476eb0550829b0ffa9e1196e814280aee0dddf858af1f796"
 },
 "nbformat": 3,
 "nbformat_minor": 0,
 "worksheets": [
  {
   "cells": [
    {
     "cell_type": "markdown",
     "metadata": {},
     "source": [
      "## 2. Supervised Learning Tutorial\n",
      "* \u57fa\u672c\u7684\u306b\u306ftutorial\u3092\u307e\u3068\u307e\u308a\u306b\u5206\u3051\u3066\u30d9\u30bf\u66f8\u304d"
     ]
    },
    {
     "cell_type": "markdown",
     "metadata": {},
     "source": [
      "### Parameter\u8a2d\u5b9a\n",
      "\u57fa\u672c\u306fopt\u306b\u306f\u3044\u308b\u3002\n",
      "\uff0b\u03b1\u306f\u30c0\u30a4\u30ec\u30af\u30c8\u306b\u8a2d\u5b9a\u3057\u3066\u3044\u308b\u3002thread\u6570\u3068\u304b\u3002"
     ]
    },
    {
     "cell_type": "code",
     "collapsed": false,
     "input": [
      "print '==> processing options'\n",
      "\n",
      "cmd = torch.CmdLine()\n",
      "cmd:text()\n",
      "cmd:text('SVHN Loss Function')\n",
      "cmd:text()\n",
      "cmd:text('Options:')\n",
      "-- global:\n",
      "cmd:option('-seed', 1, 'fixed input seed for repeatable experiments')\n",
      "cmd:option('-threads', 2, 'number of threads')\n",
      "-- data:\n",
      "cmd:option('-size', 'full', 'how many samples do we load: small | full | extra')\n",
      "-- model:\n",
      "cmd:option('-model', 'convnet', 'type of model to construct: linear | mlp | convnet')\n",
      "-- loss:\n",
      "cmd:option('-loss', 'nll', 'type of loss function to minimize: nll | mse | margin')\n",
      "-- training:\n",
      "cmd:option('-save', 'results', 'subdirectory to save/log experiments in')\n",
      "cmd:option('-plot', false, 'live plot')\n",
      "cmd:option('-optimization', 'SGD', 'optimization method: SGD | ASGD | CG | LBFGS')\n",
      "cmd:option('-learningRate', 1e-3, 'learning rate at t=0')\n",
      "cmd:option('-batchSize', 1, 'mini-batch size (1 = pure stochastic)')\n",
      "cmd:option('-weightDecay', 0, 'weight decay (SGD only)')\n",
      "cmd:option('-momentum', 0, 'momentum (SGD only)')\n",
      "cmd:option('-t0', 1, 'start averaging at t0 (ASGD only), in nb of epochs')\n",
      "cmd:option('-maxIter', 2, 'maximum nb of iterations for CG and LBFGS')\n",
      "cmd:option('-type', 'double', 'type: double | float | cuda')\n",
      "cmd:text()\n",
      "opt = cmd:parse(arg or {})\n",
      "\n",
      "-- nb of threads and fixed seed (for repeatable experiments)\n",
      "if opt.type == 'float' then\n",
      "   print('==> switching to floats')\n",
      "   torch.setdefaulttensortype('torch.FloatTensor')\n",
      "elseif opt.type == 'cuda' then\n",
      "   print('==> switching to CUDA')\n",
      "   require 'cunn'\n",
      "   torch.setdefaulttensortype('torch.FloatTensor')\n",
      "end\n",
      "torch.setnumthreads(opt.threads)\n",
      "torch.manualSeed(opt.seed)"
     ],
     "language": "python",
     "metadata": {},
     "outputs": [
      {
       "metadata": {},
       "output_type": "pyout",
       "prompt_number": 1,
       "text": [
        "==> processing options\t\n"
       ]
      }
     ],
     "prompt_number": 1
    },
    {
     "cell_type": "code",
     "collapsed": false,
     "input": [
      "print(opt)"
     ],
     "language": "python",
     "metadata": {},
     "outputs": [
      {
       "metadata": {},
       "output_type": "pyout",
       "prompt_number": 3,
       "text": [
        "{\n",
        "  size : full\n",
        "  seed : 1\n",
        "  loss : nll\n",
        "  t0 : 1\n",
        "  learningRate : 0.001\n",
        "  type : double\n",
        "  momentum : 0\n",
        "  weightDecay : 0\n",
        "  optimization : SGD\n",
        "  threads : 2\n",
        "  model : convnet\n",
        "  save : results\n",
        "  maxIter : 2\n",
        "  batchSize : 1\n",
        "  plot : false\n",
        "}\n"
       ]
      }
     ],
     "prompt_number": 3
    },
    {
     "cell_type": "markdown",
     "metadata": {},
     "source": [
      "## Load Data\n",
      "* \u3068\u3066\u3082\u91cd\u3044\u3002\u3068\u3066\u3082\u3068\u3066\u3082\u91cd\u3044\u3002"
     ]
    },
    {
     "cell_type": "code",
     "collapsed": false,
     "input": [
      "print '==> downloading dataset'\n",
      "\n",
      "-- Here we download dataset files. \n",
      "\n",
      "-- Note: files were converted from their original Matlab format\n",
      "-- to Torch's internal format using the mattorch package. The\n",
      "-- mattorch package allows 1-to-1 conversion between Torch and Matlab\n",
      "-- files.\n",
      "\n",
      "-- The SVHN dataset contains 3 files:\n",
      "--    + train: training data\n",
      "--    + test:  test data\n",
      "--    + extra: extra training data\n",
      "\n",
      "-- By default, we don't use the extra training data, as it is much \n",
      "-- more time consuming\n",
      "\n",
      "www = 'http://torch7.s3-website-us-east-1.amazonaws.com/data/housenumbers/'\n",
      "\n",
      "train_file = 'train_32x32.t7'\n",
      "test_file = 'test_32x32.t7'\n",
      "extra_file = 'extra_32x32.t7'\n",
      "\n",
      "if not paths.filep(train_file) then\n",
      "   os.execute('wget ' .. www .. train_file)\n",
      "end\n",
      "if not paths.filep(test_file) then\n",
      "   os.execute('wget ' .. www .. test_file)\n",
      "end\n",
      "if opt.size == 'extra' and not paths.filep(extra_file) then\n",
      "   os.execute('wget ' .. www .. extra_file)   \n",
      "end"
     ],
     "language": "python",
     "metadata": {},
     "outputs": [
      {
       "metadata": {},
       "output_type": "pyout",
       "prompt_number": 9,
       "text": [
        "==> downloading dataset\t\n"
       ]
      }
     ],
     "prompt_number": 9
    },
    {
     "cell_type": "code",
     "collapsed": false,
     "input": [
      "----------------------------------------------------------------------\n",
      "-- training/test size\n",
      "\n",
      "if opt.size == 'extra' then\n",
      "   print '==> using extra training data'\n",
      "   trsize = 73257 + 531131\n",
      "   tesize = 26032\n",
      "elseif opt.size == 'full' then\n",
      "   print '==> using regular, full training data'\n",
      "   trsize = 73257\n",
      "   tesize = 26032\n",
      "elseif opt.size == 'small' then\n",
      "   print '==> using reduced training data, for fast experiments'\n",
      "   trsize = 10000\n",
      "   tesize = 2000\n",
      "end\n",
      "\n",
      "----------------------------------------------------------------------\n",
      "print '==> loading dataset'\n",
      "\n",
      "-- We load the dataset from disk, and re-arrange it to be compatible\n",
      "-- with Torch's representation. Matlab uses a column-major representation,\n",
      "-- Torch is row-major, so we just have to transpose the data.\n",
      "\n",
      "-- Note: the data, in X, is 4-d: the 1st dim indexes the samples, the 2nd\n",
      "-- dim indexes the color channels (RGB), and the last two dims index the\n",
      "-- height and width of the samples.\n",
      "\n",
      "loaded = torch.load(train_file,'ascii')\n",
      "trainData = {\n",
      "   data = loaded.X:transpose(3,4),\n",
      "   labels = loaded.y[1],\n",
      "   size = function() return trsize end\n",
      "}\n",
      "\n",
      "-- If extra data is used, we load the extra file, and then\n",
      "-- concatenate the two training sets.\n",
      "\n",
      "-- Torch's slicing syntax can be a little bit frightening. I've\n",
      "-- provided a little tutorial on this, in this same directory:\n",
      "-- A_slicing.lua\n",
      "\n",
      "if opt.size == 'extra' then\n",
      "   loaded = torch.load(extra_file,'ascii')\n",
      "   trdata = torch.Tensor(trsize,3,32,32)\n",
      "   trdata[{ {1,(#trainData.data)[1]} }] = trainData.data\n",
      "   trdata[{ {(#trainData.data)[1]+1,-1} }] = loaded.X:transpose(3,4)\n",
      "   trlabels = torch.Tensor(trsize)\n",
      "   trlabels[{ {1,(#trainData.labels)[1]} }] = trainData.labels\n",
      "   trlabels[{ {(#trainData.labels)[1]+1,-1} }] = loaded.y[1]\n",
      "   trainData = {\n",
      "      data = trdata,\n",
      "      labels = trlabels,\n",
      "      size = function() return trsize end\n",
      "   }\n",
      "end\n",
      "\n",
      "-- Finally we load the test data.\n",
      "\n",
      "loaded = torch.load(test_file,'ascii')\n",
      "testData = {\n",
      "   data = loaded.X:transpose(3,4),\n",
      "   labels = loaded.y[1],\n",
      "   size = function() return tesize end\n",
      "}\n",
      "\n",
      "----------------------------------------------------------------------\n",
      "print '==> preprocessing data'\n",
      "\n",
      "-- Preprocessing requires a floating point representation (the original\n",
      "-- data is stored on bytes). Types can be easily converted in Torch, \n",
      "-- in general by doing: dst = src:type('torch.TypeTensor'), \n",
      "-- where Type=='Float','Double','Byte','Int',... Shortcuts are provided\n",
      "-- for simplicity (float(),double(),cuda(),...):\n",
      "\n",
      "trainData.data = trainData.data:float()\n",
      "testData.data = testData.data:float()\n",
      "\n",
      "-- We now preprocess the data. Preprocessing is crucial\n",
      "-- when applying pretty much any kind of machine learning algorithm.\n",
      "\n",
      "-- For natural images, we use several intuitive tricks:\n",
      "--   + images are mapped into YUV space, to separate luminance information\n",
      "--     from color information\n",
      "--   + the luminance channel (Y) is locally normalized, using a contrastive\n",
      "--     normalization operator: for each neighborhood, defined by a Gaussian\n",
      "--     kernel, the mean is suppressed, and the standard deviation is normalized\n",
      "--     to one.\n",
      "--   + color channels are normalized globally, across the entire dataset;\n",
      "--     as a result, each color component has 0-mean and 1-norm across the dataset.\n",
      "\n",
      "-- Convert all images to YUV\n",
      "print '==> preprocessing data: colorspace RGB -> YUV'\n",
      "for i = 1,trainData:size() do\n",
      "   trainData.data[i] = image.rgb2yuv(trainData.data[i])\n",
      "end\n",
      "for i = 1,testData:size() do\n",
      "   testData.data[i] = image.rgb2yuv(testData.data[i])\n",
      "end\n",
      "\n",
      "-- Name channels for convenience\n",
      "channels = {'y','u','v'}\n",
      "\n",
      "-- Normalize each channel, and store mean/std\n",
      "-- per channel. These values are important, as they are part of\n",
      "-- the trainable parameters. At test time, test data will be normalized\n",
      "-- using these values.\n",
      "print '==> preprocessing data: normalize each feature (channel) globally'\n",
      "mean = {}\n",
      "std = {}\n",
      "for i,channel in ipairs(channels) do\n",
      "   -- normalize each channel globally:\n",
      "   mean[i] = trainData.data[{ {},i,{},{} }]:mean()\n",
      "   std[i] = trainData.data[{ {},i,{},{} }]:std()\n",
      "   trainData.data[{ {},i,{},{} }]:add(-mean[i])\n",
      "   trainData.data[{ {},i,{},{} }]:div(std[i])\n",
      "end\n",
      "\n",
      "-- Normalize test data, using the training means/stds\n",
      "for i,channel in ipairs(channels) do\n",
      "   -- normalize each channel globally:\n",
      "   testData.data[{ {},i,{},{} }]:add(-mean[i])\n",
      "   testData.data[{ {},i,{},{} }]:div(std[i])\n",
      "end\n",
      "\n",
      "-- Local normalization\n",
      "print '==> preprocessing data: normalize all three channels locally'\n",
      "\n",
      "-- Define the normalization neighborhood:\n",
      "neighborhood = image.gaussian1D(13)\n",
      "\n",
      "-- Define our local normalization operator (It is an actual nn module, \n",
      "-- which could be inserted into a trainable model):\n",
      "normalization = nn.SpatialContrastiveNormalization(1, neighborhood, 1):float()\n",
      "\n",
      "-- Normalize all channels locally:\n",
      "for c in ipairs(channels) do\n",
      "   for i = 1,trainData:size() do\n",
      "      trainData.data[{ i,{c},{},{} }] = normalization:forward(trainData.data[{ i,{c},{},{} }])\n",
      "   end\n",
      "   for i = 1,testData:size() do\n",
      "      testData.data[{ i,{c},{},{} }] = normalization:forward(testData.data[{ i,{c},{},{} }])\n",
      "   end\n",
      "end\n",
      "\n",
      "----------------------------------------------------------------------\n",
      "print '==> verify statistics'\n",
      "\n",
      "-- It's always good practice to verify that data is properly\n",
      "-- normalized.\n",
      "\n",
      "for i,channel in ipairs(channels) do\n",
      "   trainMean = trainData.data[{ {},i }]:mean()\n",
      "   trainStd = trainData.data[{ {},i }]:std()\n",
      "\n",
      "   testMean = testData.data[{ {},i }]:mean()\n",
      "   testStd = testData.data[{ {},i }]:std()\n",
      "\n",
      "   print('training data, '..channel..'-channel, mean: ' .. trainMean)\n",
      "   print('training data, '..channel..'-channel, standard deviation: ' .. trainStd)\n",
      "\n",
      "   print('test data, '..channel..'-channel, mean: ' .. testMean)\n",
      "   print('test data, '..channel..'-channel, standard deviation: ' .. testStd)\n",
      "end\n",
      "\n",
      "----------------------------------------------------------------------\n",
      "print '==> visualizing data'\n",
      "\n",
      "-- Visualization is quite easy, using itorch.image().\n",
      "\n",
      "if opt.visualize then\n",
      "   if itorch then\n",
      "   first256Samples_y = trainData.data[{ {1,256},1 }]\n",
      "   first256Samples_u = trainData.data[{ {1,256},2 }]\n",
      "   first256Samples_v = trainData.data[{ {1,256},3 }]\n",
      "   itorch.image(first256Samples_y)\n",
      "   itorch.image(first256Samples_u)\n",
      "   itorch.image(first256Samples_v)\n",
      "   else\n",
      "      print(\"For visualization, run this script in an itorch notebook\")\n",
      "   end\n",
      "end"
     ],
     "language": "python",
     "metadata": {},
     "outputs": [
      {
       "metadata": {},
       "output_type": "pyout",
       "prompt_number": 38,
       "text": [
        "==> using regular, full training data\t\n",
        "==> loading dataset\t\n"
       ]
      },
      {
       "metadata": {},
       "output_type": "pyout",
       "prompt_number": 38,
       "text": [
        "==> preprocessing data\t\n"
       ]
      },
      {
       "metadata": {},
       "output_type": "pyout",
       "prompt_number": 38,
       "text": [
        "==> preprocessing data: colorspace RGB -> YUV\t\n"
       ]
      },
      {
       "metadata": {},
       "output_type": "pyout",
       "prompt_number": 38,
       "text": [
        "==> preprocessing data: normalize each feature (channel) globally\t\n"
       ]
      },
      {
       "metadata": {},
       "output_type": "pyout",
       "prompt_number": 38,
       "text": [
        "==> preprocessing data: normalize all three channels locally\t\n"
       ]
      },
      {
       "metadata": {},
       "output_type": "pyout",
       "prompt_number": 38,
       "text": [
        "==> verify statistics\t\n"
       ]
      },
      {
       "metadata": {},
       "output_type": "pyout",
       "prompt_number": 38,
       "text": [
        "training data, y-channel, mean: 0.0006770617554312\t\n",
        "training data, y-channel, standard deviation: 0.39473240592846\t\n",
        "test data, y-channel, mean: -0.0010822875571215\t\n",
        "test data, y-channel, standard deviation: 0.38091408360809\t\n"
       ]
      },
      {
       "metadata": {},
       "output_type": "pyout",
       "prompt_number": 38,
       "text": [
        "training data, u-channel, mean: -0.0048219986826003\t\n",
        "training data, u-channel, standard deviation: 0.29768662738526\t\n",
        "test data, u-channel, mean: -0.0030795262825007\t\n",
        "test data, u-channel, standard deviation: 0.22289780399406\t\n"
       ]
      },
      {
       "metadata": {},
       "output_type": "pyout",
       "prompt_number": 38,
       "text": [
        "training data, v-channel, mean: 0.0036312277455129\t\n",
        "training data, v-channel, standard deviation: 0.25405592666631\t\n",
        "test data, v-channel, mean: 0.003384748443033\t\n",
        "test data, v-channel, standard deviation: 0.20362829902559\t\n",
        "==> visualizing data\t\n"
       ]
      }
     ],
     "prompt_number": 38
    },
    {
     "cell_type": "markdown",
     "metadata": {},
     "source": [
      "## Model"
     ]
    },
    {
     "cell_type": "code",
     "collapsed": false,
     "input": [
      "----------------------------------------------------------------------\n",
      "-- This script demonstrates how to define a couple of different\n",
      "-- models:\n",
      "--   + linear\n",
      "--   + 2-layer neural network (MLP)\n",
      "--   + convolutional network (ConvNet)\n",
      "--\n",
      "-- It's a good idea to run this script with the interactive mode:\n",
      "-- $ torch -i 2_model.lua\n",
      "-- this will give you a Torch interpreter at the end, that you\n",
      "-- can use to play with the model.\n",
      "--\n",
      "-- Clement Farabet\n",
      "----------------------------------------------------------------------\n",
      "require 'torch'   -- torch\n",
      "require 'image'   -- for image transforms\n",
      "require 'nn'      -- provides all sorts of trainable modules/layers"
     ],
     "language": "python",
     "metadata": {},
     "outputs": [],
     "prompt_number": 10
    },
    {
     "cell_type": "code",
     "collapsed": false,
     "input": [
      "-- 10-class problem\n",
      "noutputs = 10\n",
      "\n",
      "-- input dimensions\n",
      "nfeats = 3\n",
      "width = 32\n",
      "height = 32\n",
      "ninputs = nfeats*width*height\n",
      "\n",
      "-- number of hidden units (for MLP only):\n",
      "nhiddens = ninputs / 2\n",
      "\n",
      "-- hidden units, filter sizes (for ConvNet only):\n",
      "nstates = {64,64,128}\n",
      "filtsize = 5\n",
      "poolsize = 2\n",
      "normkernel = image.gaussian1D(7)\n",
      "\n",
      "----------------------------------------------------------------------\n",
      "print '==> construct model'\n",
      "\n",
      "if opt.model == 'linear' then\n",
      "\n",
      "   -- Simple linear model\n",
      "   model = nn.Sequential()\n",
      "   model:add(nn.Reshape(ninputs))\n",
      "   model:add(nn.Linear(ninputs,noutputs))\n",
      "\n",
      "elseif opt.model == 'mlp' then\n",
      "\n",
      "   -- Simple 2-layer neural network, with tanh hidden units\n",
      "   model = nn.Sequential()\n",
      "   model:add(nn.Reshape(ninputs))\n",
      "   model:add(nn.Linear(ninputs,nhiddens))\n",
      "   model:add(nn.Tanh())\n",
      "   model:add(nn.Linear(nhiddens,noutputs))\n",
      "\n",
      "elseif opt.model == 'convnet' then\n",
      "\n",
      "   if opt.type == 'cuda' then\n",
      "      -- a typical modern convolution network (conv+relu+pool)\n",
      "      model = nn.Sequential()\n",
      "\n",
      "      -- stage 1 : filter bank -> squashing -> L2 pooling -> normalization\n",
      "      model:add(nn.SpatialConvolutionMM(nfeats, nstates[1], filtsize, filtsize))\n",
      "      model:add(nn.ReLU())\n",
      "      model:add(nn.SpatialMaxPooling(poolsize,poolsize,poolsize,poolsize))\n",
      "\n",
      "      -- stage 2 : filter bank -> squashing -> L2 pooling -> normalization\n",
      "      model:add(nn.SpatialConvolutionMM(nstates[1], nstates[2], filtsize, filtsize))\n",
      "      model:add(nn.ReLU())\n",
      "      model:add(nn.SpatialMaxPooling(poolsize,poolsize,poolsize,poolsize))\n",
      "\n",
      "      -- stage 3 : standard 2-layer neural network\n",
      "      model:add(nn.View(nstates[2]*filtsize*filtsize))\n",
      "      model:add(nn.Dropout(0.5))\n",
      "      model:add(nn.Linear(nstates[2]*filtsize*filtsize, nstates[3]))\n",
      "      model:add(nn.ReLU())\n",
      "      model:add(nn.Linear(nstates[3], noutputs))\n",
      "\n",
      "   else\n",
      "      -- a typical convolutional network, with locally-normalized hidden\n",
      "      -- units, and L2-pooling\n",
      "\n",
      "      -- Note: the architecture of this convnet is loosely based on Pierre Sermanet's\n",
      "      -- work on this dataset (http://arxiv.org/abs/1204.3968). In particular\n",
      "      -- the use of LP-pooling (with P=2) has a very positive impact on\n",
      "      -- generalization. Normalization is not done exactly as proposed in\n",
      "      -- the paper, and low-level (first layer) features are not fed to\n",
      "      -- the classifier.\n",
      "\n",
      "      model = nn.Sequential()\n",
      "\n",
      "      -- stage 1 : filter bank -> squashing -> L2 pooling -> normalization\n",
      "      model:add(nn.SpatialConvolutionMM(nfeats, nstates[1], filtsize, filtsize))\n",
      "      model:add(nn.Tanh())\n",
      "      model:add(nn.SpatialLPPooling(nstates[1],2,poolsize,poolsize,poolsize,poolsize))\n",
      "      model:add(nn.SpatialSubtractiveNormalization(nstates[1], normkernel))\n",
      "\n",
      "      -- stage 2 : filter bank -> squashing -> L2 pooling -> normalization\n",
      "      model:add(nn.SpatialConvolutionMM(nstates[1], nstates[2], filtsize, filtsize))\n",
      "      model:add(nn.Tanh())\n",
      "      model:add(nn.SpatialLPPooling(nstates[2],2,poolsize,poolsize,poolsize,poolsize))\n",
      "      model:add(nn.SpatialSubtractiveNormalization(nstates[2], normkernel))\n",
      "\n",
      "      -- stage 3 : standard 2-layer neural network\n",
      "      model:add(nn.Reshape(nstates[2]*filtsize*filtsize))\n",
      "      model:add(nn.Linear(nstates[2]*filtsize*filtsize, nstates[3]))\n",
      "      model:add(nn.Tanh())\n",
      "      model:add(nn.Linear(nstates[3], noutputs))\n",
      "   end\n",
      "else\n",
      "\n",
      "   error('unknown -model')\n",
      "\n",
      "end"
     ],
     "language": "python",
     "metadata": {},
     "outputs": [
      {
       "metadata": {},
       "output_type": "pyout",
       "prompt_number": 11,
       "text": [
        "==> construct model\t\n"
       ]
      }
     ],
     "prompt_number": 11
    },
    {
     "cell_type": "code",
     "collapsed": false,
     "input": [
      "if opt.model == 'convnet' then\n",
      "    if itorch then\n",
      "        print '==> visualizing ConvNet filters'\n",
      "        print('Layer 1 filters:')\n",
      "        itorch.image(model:get(1).weight)\n",
      "        print('Layer 2 filters:')\n",
      "        itorch.image(model:get(5).weight)\n",
      "    else\n",
      "        print '==> To visualize filters, start the script in itorch notebook'\n",
      "    end\n",
      "end"
     ],
     "language": "python",
     "metadata": {},
     "outputs": [
      {
       "metadata": {},
       "output_type": "pyout",
       "prompt_number": 13,
       "text": [
        "==> visualizing ConvNet filters\t\n",
        "Layer 1 filters:\t\n"
       ]
      },
      {
       "metadata": {
        "png": {
         "height": 64,
         "width": 75
        }
       },
       "output_type": "display_data",
       "png": "[encoded data removed]",
       "text": [
        "Console does not support images"
       ]
      },
      {
       "metadata": {},
       "output_type": "pyout",
       "prompt_number": 13,
       "text": [
        "Layer 2 filters:\t\n"
       ]
      },
      {
       "metadata": {
        "png": {
         "height": 64,
         "width": 1600
        }
       },
       "output_type": "display_data",
       "png": "[encoded data removed]",
       "text": [
        "Console does not support images"
       ]
      }
     ],
     "prompt_number": 13
    },
    {
     "cell_type": "markdown",
     "metadata": {},
     "source": [
      "## Loss"
     ]
    },
    {
     "cell_type": "code",
     "collapsed": false,
     "input": [
      "\n",
      "if opt.loss == 'margin' then\n",
      "\n",
      "   -- This loss takes a vector of classes, and the index of\n",
      "   -- the grountruth class as arguments. It is an SVM-like loss\n",
      "   -- with a default margin of 1.\n",
      "\n",
      "   criterion = nn.MultiMarginCriterion()\n",
      "\n",
      "elseif opt.loss == 'nll' then\n",
      "\n",
      "   -- This loss requires the outputs of the trainable model to\n",
      "   -- be properly normalized log-probabilities, which can be\n",
      "   -- achieved using a softmax function\n",
      "\n",
      "   model:add(nn.LogSoftMax())\n",
      "\n",
      "   -- The loss works like the MultiMarginCriterion: it takes\n",
      "   -- a vector of classes, and the index of the grountruth class\n",
      "   -- as arguments.\n",
      "\n",
      "   criterion = nn.ClassNLLCriterion()\n",
      "\n",
      "elseif opt.loss == 'mse' then\n",
      "\n",
      "   -- for MSE, we add a tanh, to restrict the model's output\n",
      "   model:add(nn.Tanh())\n",
      "\n",
      "   -- The mean-square error is not recommended for classification\n",
      "   -- tasks, as it typically tries to do too much, by exactly modeling\n",
      "   -- the 1-of-N distribution. For the sake of showing more examples,\n",
      "   -- we still provide it here:\n",
      "\n",
      "   criterion = nn.MSECriterion()\n",
      "   criterion.sizeAverage = false\n",
      "\n",
      "   -- Compared to the other losses, the MSE criterion needs a distribution\n",
      "   -- as a target, instead of an index. Indeed, it is a regression loss!\n",
      "   -- So we need to transform the entire label vectors:\n",
      "\n",
      "   if trainData then\n",
      "      -- convert training labels:\n",
      "      local trsize = (#trainData.labels)[1]\n",
      "      local trlabels = torch.Tensor( trsize, noutputs )\n",
      "      trlabels:fill(-1)\n",
      "      for i = 1,trsize do\n",
      "         trlabels[{ i,trainData.labels[i] }] = 1\n",
      "      end\n",
      "      trainData.labels = trlabels\n",
      "\n",
      "      -- convert test labels\n",
      "      local tesize = (#testData.labels)[1]\n",
      "      local telabels = torch.Tensor( tesize, noutputs )\n",
      "      telabels:fill(-1)\n",
      "      for i = 1,tesize do\n",
      "         telabels[{ i,testData.labels[i] }] = 1\n",
      "      end\n",
      "      testData.labels = telabels\n",
      "   end\n",
      "\n",
      "else\n",
      "\n",
      "   error('unknown -loss')\n",
      "\n",
      "end\n",
      "\n",
      "----------------------------------------------------------------------\n",
      "print '==> here is the loss function:'\n",
      "print(criterion)"
     ],
     "language": "python",
     "metadata": {},
     "outputs": [
      {
       "metadata": {},
       "output_type": "pyout",
       "prompt_number": 32,
       "text": [
        "==> here is the loss function:\t\n",
        "nn.ClassNLLCriterion\n",
        "{\n",
        "  gradInput : DoubleTensor - empty\n",
        "  outputTensor : DoubleTensor - size: 1\n",
        "  sizeAverage : true\n",
        "  output : 0\n",
        "}\n"
       ]
      }
     ],
     "prompt_number": 32
    },
    {
     "cell_type": "markdown",
     "metadata": {},
     "source": [
      "## Train"
     ]
    },
    {
     "cell_type": "code",
     "collapsed": false,
     "input": [
      "require 'torch'   -- torch\n",
      "require 'xlua'    -- xlua provides useful tools, like progress bars\n",
      "require 'optim'   -- an optimization package, for online and batch methods\n"
     ],
     "language": "python",
     "metadata": {},
     "outputs": [],
     "prompt_number": 49
    },
    {
     "cell_type": "code",
     "collapsed": false,
     "input": [
      "----------------------------------------------------------------------\n",
      "-- CUDA?\n",
      "if opt.type == 'cuda' then\n",
      "   model:cuda()\n",
      "   criterion:cuda()\n",
      "end"
     ],
     "language": "python",
     "metadata": {},
     "outputs": [],
     "prompt_number": 46
    },
    {
     "cell_type": "code",
     "collapsed": false,
     "input": [
      "----------------------------------------------------------------------\n",
      "print '==> defining some tools'\n",
      "\n",
      "-- classes\n",
      "classes = {'1','2','3','4','5','6','7','8','9','0'}\n",
      "\n",
      "-- This matrix records the current confusion across classes\n",
      "confusion = optim.ConfusionMatrix(classes)\n",
      "\n",
      "-- Log results to files\n",
      "trainLogger = optim.Logger(paths.concat(opt.save, 'train.log'))\n",
      "testLogger = optim.Logger(paths.concat(opt.save, 'test.log'))"
     ],
     "language": "python",
     "metadata": {},
     "outputs": [
      {
       "metadata": {},
       "output_type": "pyout",
       "prompt_number": 50,
       "text": [
        "==> defining some tools\t\n"
       ]
      }
     ],
     "prompt_number": 50
    },
    {
     "cell_type": "code",
     "collapsed": false,
     "input": [
      "-- Retrieve parameters and gradients:\n",
      "-- this extracts and flattens all the trainable parameters of the mode\n",
      "-- into a 1-dim vector\n",
      "if model then\n",
      "   parameters,gradParameters = model:getParameters()\n",
      "end\n",
      "\n",
      "-- It seeems that gradParameters must be a shared variable"
     ],
     "language": "python",
     "metadata": {},
     "outputs": [],
     "prompt_number": 51
    },
    {
     "cell_type": "markdown",
     "metadata": {},
     "source": [
      "#### Optimization Function\n",
      "Replace mlp: updateParameters by functions on 'optim' package\n",
      "ex. SGD, BGD, AdaGrad etc\n",
      "\n",
      "[basic nn train](https://github.com/torch/nn/blob/master/doc/training.md) -> [optim](https://github.com/torch/optim)"
     ]
    },
    {
     "cell_type": "code",
     "collapsed": false,
     "input": [
      "----------------------------------------------------------------------\n",
      "print '==> configuring optimizer'\n",
      "\n",
      "if opt.optimization == 'CG' then\n",
      "   optimState = {\n",
      "      maxIter = opt.maxIter\n",
      "   }\n",
      "   optimMethod = optim.cg\n",
      "\n",
      "elseif opt.optimization == 'LBFGS' then\n",
      "   optimState = {\n",
      "      learningRate = opt.learningRate,\n",
      "      maxIter = opt.maxIter,\n",
      "      nCorrection = 10\n",
      "   }\n",
      "   optimMethod = optim.lbfgs\n",
      "\n",
      "elseif opt.optimization == 'SGD' then\n",
      "   optimState = {\n",
      "      learningRate = opt.learningRate,\n",
      "      weightDecay = opt.weightDecay,\n",
      "      momentum = opt.momentum,\n",
      "      learningRateDecay = 1e-7\n",
      "   }\n",
      "   optimMethod = optim.sgd\n",
      "\n",
      "elseif opt.optimization == 'ASGD' then\n",
      "   optimState = {\n",
      "      eta0 = opt.learningRate,\n",
      "      t0 = trsize * opt.t0\n",
      "   }\n",
      "   optimMethod = optim.asgd\n",
      "\n",
      "else\n",
      "   error('unknown optimization method')\n",
      "end\n"
     ],
     "language": "python",
     "metadata": {},
     "outputs": [
      {
       "metadata": {},
       "output_type": "pyout",
       "prompt_number": 54,
       "text": [
        "==> configuring optimizer\t\n",
        "function: 0x042cd060\t\n"
       ]
      }
     ],
     "prompt_number": 54
    },
    {
     "cell_type": "code",
     "collapsed": false,
     "input": [
      "-- The function train will be called for each epoch\n",
      "\n",
      "print '==> defining training procedure'\n",
      "\n",
      "function train()\n",
      "\n",
      "   -- epoch tracker\n",
      "   epoch = epoch or 1\n",
      "\n",
      "   -- local vars\n",
      "   local time = sys.clock()\n",
      "\n",
      "   -- set model to training mode (for modules that differ in training and testing, like Dropout)\n",
      "   model:training()\n",
      "\n",
      "   -- shuffle at each epoch\n",
      "   shuffle = torch.randperm(trsize)  -- shuffule the index\n",
      "\n",
      "   -- do one epoch\n",
      "   print('==> doing epoch on training data:')\n",
      "   print(\"==> online epoch # \" .. epoch .. ' [batchSize = ' .. opt.batchSize .. ']')\n",
      "   for t = 1,trainData:size(),opt.batchSize do\n",
      "      -- disp progress\n",
      "      xlua.progress(t, trainData:size())\n",
      "\n",
      "      -- create mini batch\n",
      "      local inputs = {}\n",
      "      local targets = {}\n",
      "      for i = t,math.min(t+opt.batchSize-1,trainData:size()) do\n",
      "         -- load new sample\n",
      "         local input = trainData.data[shuffle[i]]\n",
      "         local target = trainData.labels[shuffle[i]]\n",
      "         if opt.type == 'double' then input = input:double()\n",
      "         elseif opt.type == 'cuda' then input = input:cuda() end\n",
      "         table.insert(inputs, input)\n",
      "         table.insert(targets, target)\n",
      "      end\n",
      "\n",
      "      -- create closure to evaluate f(X) and df/dX\n",
      "      local feval = function(x)\n",
      "                       -- get new parameters\n",
      "                       if x ~= parameters then\n",
      "                          parameters:copy(x)\n",
      "                       end\n",
      "\n",
      "                       -- reset gradients\n",
      "                       gradParameters:zero()\n",
      "\n",
      "                       -- f is the average of all criterions\n",
      "                       local f = 0\n",
      "\n",
      "                       -- evaluate function for complete mini batch\n",
      "                       for i = 1,#inputs do\n",
      "                          -- estimate f\n",
      "                          local output = model:forward(inputs[i])\n",
      "                          local err = criterion:forward(output, targets[i])\n",
      "                          f = f + err\n",
      "\n",
      "                          -- estimate df/dW\n",
      "                          local df_do = criterion:backward(output, targets[i])\n",
      "                          model:backward(inputs[i], df_do)\n",
      "\n",
      "                          -- update confusion\n",
      "                          confusion:add(output, targets[i])\n",
      "                       end\n",
      "\n",
      "                       -- normalize gradients and f(X)\n",
      "                       gradParameters:div(#inputs)\n",
      "                       f = f/#inputs\n",
      "\n",
      "                       -- return f and df/dX\n",
      "                       return f,gradParameters\n",
      "                    end\n",
      "\n",
      "      -- optimize on current mini-batch\n",
      "      if optimMethod == optim.asgd then\n",
      "         _,_,average = optimMethod(feval, parameters, optimState)\n",
      "      else\n",
      "         optimMethod(feval, parameters, optimState)\n",
      "      end\n",
      "   end\n",
      "\n",
      "   -- time taken\n",
      "   time = sys.clock() - time\n",
      "   time = time / trainData:size()\n",
      "   print(\"\\n==> time to learn 1 sample = \" .. (time*1000) .. 'ms')\n",
      "\n",
      "   -- print confusion matrix\n",
      "   print(confusion)\n",
      "\n",
      "   -- update logger/plot\n",
      "   trainLogger:add{['% mean class accuracy (train set)'] = confusion.totalValid * 100}\n",
      "   if opt.plot then\n",
      "      trainLogger:style{['% mean class accuracy (train set)'] = '-'}\n",
      "      trainLogger:plot()\n",
      "   end\n",
      "\n",
      "   -- save/log current net\n",
      "   local filename = paths.concat(opt.save, 'model.net')\n",
      "   os.execute('mkdir -p ' .. sys.dirname(filename))\n",
      "   print('==> saving model to '..filename)\n",
      "   torch.save(filename, model)\n",
      "\n",
      "   -- next epoch\n",
      "   confusion:zero()\n",
      "   epoch = epoch + 1\n",
      "end"
     ],
     "language": "python",
     "metadata": {},
     "outputs": [
      {
       "metadata": {},
       "output_type": "pyout",
       "prompt_number": 55,
       "text": [
        "==> defining training procedure\t\n"
       ]
      }
     ],
     "prompt_number": 55
    },
    {
     "cell_type": "code",
     "collapsed": false,
     "input": [],
     "language": "python",
     "metadata": {},
     "outputs": []
    },
    {
     "cell_type": "markdown",
     "metadata": {},
     "source": [
      "## Test"
     ]
    },
    {
     "cell_type": "code",
     "collapsed": false,
     "input": [
      "require 'torch'   -- torch\n",
      "require 'xlua'    -- xlua provides useful tools, like progress bars\n",
      "require 'optim'   -- an optimization package, for online and batch methods\n",
      "\n",
      "----------------------------------------------------------------------\n",
      "print '==> defining test procedure'\n",
      "\n",
      "-- test function\n",
      "function test()\n",
      "   -- local vars\n",
      "   local time = sys.clock()\n",
      "\n",
      "   -- averaged param use?\n",
      "   if average then\n",
      "      cachedparams = parameters:clone()\n",
      "      parameters:copy(average)\n",
      "   end\n",
      "\n",
      "   -- set model to evaluate mode (for modules that differ in training and testing, like Dropout)\n",
      "   model:evaluate()\n",
      "\n",
      "   -- test over test data\n",
      "   print('==> testing on test set:')\n",
      "   for t = 1,testData:size() do\n",
      "      -- disp progress\n",
      "      xlua.progress(t, testData:size())\n",
      "\n",
      "      -- get new sample\n",
      "      local input = testData.data[t]\n",
      "      if opt.type == 'double' then input = input:double()\n",
      "      elseif opt.type == 'cuda' then input = input:cuda() end\n",
      "      local target = testData.labels[t]\n",
      "\n",
      "      -- test sample\n",
      "      local pred = model:forward(input)\n",
      "      confusion:add(pred, target)\n",
      "   end\n",
      "\n",
      "   -- timing\n",
      "   time = sys.clock() - time\n",
      "   time = time / testData:size()\n",
      "   print(\"\\n==> time to test 1 sample = \" .. (time*1000) .. 'ms')\n",
      "\n",
      "   -- print confusion matrix\n",
      "   print(confusion)\n",
      "\n",
      "   -- update log/plot\n",
      "   testLogger:add{['% mean class accuracy (test set)'] = confusion.totalValid * 100}\n",
      "   if opt.plot then\n",
      "      testLogger:style{['% mean class accuracy (test set)'] = '-'}\n",
      "      testLogger:plot()\n",
      "   end\n",
      "\n",
      "   -- averaged param use?\n",
      "   if average then\n",
      "      -- restore parameters\n",
      "      parameters:copy(cachedparams)\n",
      "   end\n",
      "   \n",
      "   -- next iteration:\n",
      "   confusion:zero()\n",
      "end"
     ],
     "language": "python",
     "metadata": {},
     "outputs": [
      {
       "metadata": {},
       "output_type": "pyout",
       "prompt_number": 57,
       "text": [
        "==> defining test procedure\t\n"
       ]
      }
     ],
     "prompt_number": 57
    },
    {
     "cell_type": "markdown",
     "metadata": {},
     "source": [
      "## Do"
     ]
    },
    {
     "cell_type": "code",
     "collapsed": false,
     "input": [
      "while true do\n",
      "   train()\n",
      "   test()\n",
      "end"
     ],
     "language": "python",
     "metadata": {},
     "outputs": [
      {
       "metadata": {},
       "output_type": "pyout",
       "prompt_number": 58,
       "text": [
        "==> doing epoch on training data:\t\n",
        "==> online epoch # 1 [batchSize = 1]\t\n",
        "Progress: 1 / 73257\t\n"
       ]
      },
      {
       "metadata": {},
       "output_type": "pyout",
       "prompt_number": 58,
       "text": [
        "Progress: 1082 / 73257\t\n"
       ]
      },
      {
       "metadata": {},
       "output_type": "pyout",
       "prompt_number": 58,
       "text": [
        "Progress: 2164 / 73257\t\n"
       ]
      },
      {
       "metadata": {},
       "output_type": "pyout",
       "prompt_number": 58,
       "text": [
        "Progress: 3220 / 73257\t\n"
       ]
      },
      {
       "metadata": {},
       "output_type": "pyout",
       "prompt_number": 58,
       "text": [
        "Progress: 4284 / 73257\t\n"
       ]
      },
      {
       "metadata": {},
       "output_type": "pyout",
       "prompt_number": 58,
       "text": [
        "Progress: 5319 / 73257\t\n"
       ]
      },
      {
       "metadata": {},
       "output_type": "pyout",
       "prompt_number": 58,
       "text": [
        "Progress: 6361 / 73257\t\n"
       ]
      },
      {
       "metadata": {},
       "output_type": "pyout",
       "prompt_number": 58,
       "text": [
        "Progress: 7405 / 73257\t\n"
       ]
      },
      {
       "metadata": {},
       "output_type": "pyout",
       "prompt_number": 58,
       "text": [
        "Progress: 8439 / 73257\t\n"
       ]
      },
      {
       "metadata": {},
       "output_type": "pyout",
       "prompt_number": 58,
       "text": [
        "Progress: 9504 / 73257\t\n"
       ]
      },
      {
       "metadata": {},
       "output_type": "pyout",
       "prompt_number": 58,
       "text": [
        "Progress: 10565 / 73257\t\n"
       ]
      },
      {
       "metadata": {},
       "output_type": "pyout",
       "prompt_number": 58,
       "text": [
        "Progress: 11596 / 73257\t\n"
       ]
      }
     ]
    },
    {
     "cell_type": "code",
     "collapsed": false,
     "input": [],
     "language": "python",
     "metadata": {},
     "outputs": []
    }
   ],
   "metadata": {}
  }
 ]
}